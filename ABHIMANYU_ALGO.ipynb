{
 "cells": [
  {
   "cell_type": "code",
   "execution_count": 1,
   "metadata": {
    "_cell_guid": "b1076dfc-b9ad-4769-8c92-a6c4dae69d19",
    "_uuid": "8f2839f25d086af736a60e9eeb907d3b93b6e0e5"
   },
   "outputs": [
    {
     "name": "stdout",
     "output_type": "stream",
     "text": [
      "Radians \n",
      " ********************\n",
      "[-0.7853981633974483, -0.5235987755982988, 0.0, 0.5235987755982988, 0.7853981633974483]\n"
     ]
    }
   ],
   "source": [
    "import math\n",
    "deg = list((-45, -30, 0, 30, 45))\n",
    "S = list((10, 15, 9, 7))\n",
    "A = list((5, 7, 8, 5))\n",
    "C = list((6, 4, 3, 6))\n",
    "# Converting Degrees to radians and storing into rad list variable\n",
    "rad = list((math.radians(deg[0]),math.radians(deg[1]),math.radians(deg[2]),math.radians(deg[3]),math.radians(deg[4])))\n",
    "# Print result of list variable rad\n",
    "print(\"Radians \\n\", \"*\" * 20)\n",
    "print(rad)"
   ]
  },
  {
   "cell_type": "code",
   "execution_count": 2,
   "metadata": {
    "_uuid": "8a54017db17ee3299921207aed7d2a0123703f49"
   },
   "outputs": [
    {
     "name": "stdout",
     "output_type": "stream",
     "text": [
      "Alpha Values\n",
      "####################\n",
      "[-1.8066782215330255, -1.8700896262407554, -1.3550086661497691, -1.5115754487663575, -1.1021391661988926, -1.140822420294232, -0.8266043746491695, -0.9221157840362094, 0.0, 0.0, 0.0, 0.0, 1.1021391661988926, 1.140822420294232, 0.8266043746491695, 0.9221157840362094, 1.8066782215330255, 1.8700896262407554, 1.3550086661497691, 1.5115754487663575]\n"
     ]
    }
   ],
   "source": [
    "# Alpha formula 2 * arcSin(x) * squareRoot(S / (2 * a))\n",
    "# Storing result with different radians, S and A values.\n",
    "# None of the output of S/(2 *a ) are negative values\n",
    "alpha = list((2 * math.asin(rad[0]) * math.sqrt(S[0]/(2*A[0])), \n",
    "              2 * math.asin(rad[0]) * math.sqrt(S[1]/(2*A[1])),\n",
    "              2 * math.asin(rad[0]) * math.sqrt(S[2]/(2*A[2])),\n",
    "              2 * math.asin(rad[0]) * math.sqrt(S[3]/(2*A[3])),\n",
    "              2 * math.asin(rad[1]) * math.sqrt(S[0]/(2*A[0])), \n",
    "              2 * math.asin(rad[1]) * math.sqrt(S[1]/(2*A[1])),\n",
    "              2 * math.asin(rad[1]) * math.sqrt(S[2]/(2*A[2])),\n",
    "              2 * math.asin(rad[1]) * math.sqrt(S[3]/(2*A[3])),\n",
    "              2 * math.asin(rad[2]) * math.sqrt(S[0]/(2*A[0])), \n",
    "              2 * math.asin(rad[2]) * math.sqrt(S[1]/(2*A[1])),\n",
    "              2 * math.asin(rad[2]) * math.sqrt(S[2]/(2*A[2])),\n",
    "              2 * math.asin(rad[2]) * math.sqrt(S[3]/(2*A[3])),\n",
    "              2 * math.asin(rad[3]) * math.sqrt(S[0]/(2*A[0])), \n",
    "              2 * math.asin(rad[3]) * math.sqrt(S[1]/(2*A[1])),\n",
    "              2 * math.asin(rad[3]) * math.sqrt(S[2]/(2*A[2])),\n",
    "              2 * math.asin(rad[3]) * math.sqrt(S[3]/(2*A[3])),\n",
    "              2 * math.asin(rad[4]) * math.sqrt(S[0]/(2*A[0])), \n",
    "              2 * math.asin(rad[4]) * math.sqrt(S[1]/(2*A[1])),\n",
    "              2 * math.asin(rad[4]) * math.sqrt(S[2]/(2*A[2])),\n",
    "              2 * math.asin(rad[4]) * math.sqrt(S[3]/(2*A[3])) ))\n",
    "print(\"Alpha Values\")\n",
    "print(\"#\" * 20)\n",
    "print(alpha)\n"
   ]
  },
  {
   "cell_type": "code",
   "execution_count": 3,
   "metadata": {
    "_cell_guid": "79c7e3d0-c299-4dcb-8224-4455121ee9b0",
    "_uuid": "d629ff2d2480ee46fbb7e2d37f6b5fab8052498a"
   },
   "outputs": [
    {
     "name": "stdout",
     "output_type": "stream",
     "text": [
      "Beta Values\n",
      "____________________\n",
      "[-1.142643635813325, -1.6014490794674299, -1.106359943038725, -0.5713218179066625, -0.6970540127334726, -0.9769419546423382, -0.6749196456809479, -0.3485270063667363, 0.0, 0.0, 0.0, 0.0, 0.6970540127334726, 0.9769419546423382, 0.6749196456809479, 0.3485270063667363, 1.142643635813325, 1.6014490794674299, 1.106359943038725, 0.5713218179066625]\n"
     ]
    }
   ],
   "source": [
    "# Beta formula 2 * arcSin(x) * squareRoot((S - C) / (2 * a))\n",
    "# Storing result with different radians, S and A values.\n",
    "# None of the output of (S-C)/(2 *a ) are negative values\n",
    "beta = list((2 * math.asin(rad[0]) * math.sqrt((S[0]-C[0])/(2*A[0])), \n",
    "              2 * math.asin(rad[0]) * math.sqrt((S[1]-C[1])/(2*A[1])),\n",
    "              2 * math.asin(rad[0]) * math.sqrt((S[2]-C[2])/(2*A[2])),\n",
    "              2 * math.asin(rad[0]) * math.sqrt((S[3]-C[3])/(2*A[3])),\n",
    "              2 * math.asin(rad[1]) * math.sqrt((S[0]-C[0])/(2*A[0])), \n",
    "              2 * math.asin(rad[1]) * math.sqrt((S[1]-C[1])/(2*A[1])),\n",
    "              2 * math.asin(rad[1]) * math.sqrt((S[2]-C[2])/(2*A[2])),\n",
    "              2 * math.asin(rad[1]) * math.sqrt((S[3]-C[3])/(2*A[3])),\n",
    "              2 * math.asin(rad[2]) * math.sqrt((S[0]-C[0])/(2*A[0])), \n",
    "              2 * math.asin(rad[2]) * math.sqrt((S[1]-C[1])/(2*A[1])),\n",
    "              2 * math.asin(rad[2]) * math.sqrt((S[2]-C[2])/(2*A[2])),\n",
    "              2 * math.asin(rad[2]) * math.sqrt((S[3]-C[3])/(2*A[3])),\n",
    "              2 * math.asin(rad[3]) * math.sqrt((S[0]-C[0])/(2*A[0])), \n",
    "              2 * math.asin(rad[3]) * math.sqrt((S[1]-C[1])/(2*A[1])),\n",
    "              2 * math.asin(rad[3]) * math.sqrt((S[2]-C[2])/(2*A[2])),\n",
    "              2 * math.asin(rad[3]) * math.sqrt((S[3]-C[3])/(2*A[3])),\n",
    "              2 * math.asin(rad[4]) * math.sqrt((S[0]-C[0])/(2*A[0])), \n",
    "              2 * math.asin(rad[4]) * math.sqrt((S[1]-C[1])/(2*A[1])),\n",
    "              2 * math.asin(rad[4]) * math.sqrt((S[2]-C[2])/(2*A[2])),\n",
    "              2 * math.asin(rad[4]) * math.sqrt((S[3]-C[3])/(2*A[3])) ))\n",
    "\n",
    "print(\"Beta Values\")\n",
    "print(\"_\" * 20)\n",
    "print(beta)\n"
   ]
  },
  {
   "cell_type": "code",
   "execution_count": 4,
   "metadata": {
    "_uuid": "f94056b9662ad0a42f81c455113865decc4aa670"
   },
   "outputs": [
    {
     "name": "stdout",
     "output_type": "stream",
     "text": [
      "Output\n",
      "*^**^**^**^**^**^**^**^**^**^**^**^**^**^**^**^**^**^**^**^*\n",
      "[-0.6014602530293558, -0.3126256930913711, -0.1659148393236185, -0.48275109139494754, -0.15487119537190397, -0.08369392834832312, -0.04088381449933254, -0.11822090068075591, 0.0, 0.0, 0.0, 0.0, 0.15487119537190397, 0.08369392834832312, 0.04088381449933254, 0.11822090068075591, 0.6014602530293558, 0.3126256930913711, 0.1659148393236185, 0.48275109139494754]\n"
     ]
    }
   ],
   "source": [
    "# The final output formula output = alpha - beta - (sin(alpha) - sin(beta))\n",
    "output = list((alpha[0] - beta[0] - (math.sin(alpha[0]) - math.sin(beta[0])),\n",
    "               alpha[1] - beta[1] - (math.sin(alpha[1]) - math.sin(beta[1])),\n",
    "               alpha[2] - beta[2] - (math.sin(alpha[2]) - math.sin(beta[2])),\n",
    "               alpha[3] - beta[3] - (math.sin(alpha[3]) - math.sin(beta[3])),\n",
    "               alpha[4] - beta[4] - (math.sin(alpha[4]) - math.sin(beta[4])),\n",
    "               alpha[5] - beta[5] - (math.sin(alpha[5]) - math.sin(beta[5])),\n",
    "               alpha[6] - beta[6] - (math.sin(alpha[6]) - math.sin(beta[6])),\n",
    "               alpha[7] - beta[7] - (math.sin(alpha[7]) - math.sin(beta[7])),\n",
    "               alpha[8] - beta[8] - (math.sin(alpha[8]) - math.sin(beta[8])),\n",
    "               alpha[9] - beta[9] - (math.sin(alpha[9]) - math.sin(beta[9])),\n",
    "               alpha[10] - beta[10] - (math.sin(alpha[10]) - math.sin(beta[10])),\n",
    "               alpha[11] - beta[11] - (math.sin(alpha[11]) - math.sin(beta[11])),\n",
    "               alpha[12] - beta[12] - (math.sin(alpha[12]) - math.sin(beta[12])),\n",
    "               alpha[13] - beta[13] - (math.sin(alpha[13]) - math.sin(beta[13])),\n",
    "               alpha[14] - beta[14] - (math.sin(alpha[14]) - math.sin(beta[14])),\n",
    "               alpha[15] - beta[15] - (math.sin(alpha[15]) - math.sin(beta[15])),\n",
    "               alpha[16] - beta[16] - (math.sin(alpha[16]) - math.sin(beta[16])),\n",
    "               alpha[17] - beta[17] - (math.sin(alpha[17]) - math.sin(beta[17])),\n",
    "               alpha[18] - beta[18] - (math.sin(alpha[18]) - math.sin(beta[18])),\n",
    "               alpha[19] - beta[19] - (math.sin(alpha[19]) - math.sin(beta[19]))))\n",
    "\n",
    "# Print results for output\n",
    "print(\"Output\")\n",
    "print(\"*^*\" * 20)\n",
    "print(output)"
   ]
  }
 ],
 "metadata": {
  "kernelspec": {
   "display_name": "Python 3",
   "language": "python",
   "name": "python3"
  },
  "language_info": {
   "codemirror_mode": {
    "name": "ipython",
    "version": 3
   },
   "file_extension": ".py",
   "mimetype": "text/x-python",
   "name": "python",
   "nbconvert_exporter": "python",
   "pygments_lexer": "ipython3",
   "version": "3.6.5"
  }
 },
 "nbformat": 4,
 "nbformat_minor": 1
}
