{
 "cells": [
  {
   "cell_type": "code",
   "execution_count": 1,
   "metadata": {
    "_cell_guid": "b1076dfc-b9ad-4769-8c92-a6c4dae69d19",
    "_uuid": "8f2839f25d086af736a60e9eeb907d3b93b6e0e5"
   },
   "outputs": [
    {
     "name": "stdout",
     "output_type": "stream",
     "text": [
      "Weight\n",
      "%_%%_%%_%%_%%_%%_%%_%%_%%_%%_%%_%%_%%_%%_%%_%%_%%_%%_%%_%%_%\n",
      "[69, 55, 84, 95, 78, 68, 64, 59, 150, 48, 81]\n"
     ]
    }
   ],
   "source": [
    "\n",
    "import math\n",
    "\n",
    "# Updated weight in KGs\n",
    "weight = list((69, 55, 84, 95, 78, 68, 64, 59, 150, 48, 81))\n",
    "print(\"Weight\")\n",
    "print(\"%_%\" * 20)\n",
    "print(weight)\n"
   ]
  },
  {
   "cell_type": "code",
   "execution_count": 2,
   "metadata": {
    "_uuid": "f56ed55db6376510abf8ea5490f0e3168fa01c04"
   },
   "outputs": [
    {
     "name": "stdout",
     "output_type": "stream",
     "text": [
      "height\n",
      "*-**-**-**-**-**-**-**-**-**-**-**-**-**-**-**-**-**-**-**-*\n",
      "[177.5, 140, 150, 175, 170, 165, 155, 172.5, 150, 150]\n"
     ]
    }
   ],
   "source": [
    "# Updated Height in inches\n",
    "height = list((177.5, 140, 150, 175, 170, 165, 155, 172.5, 150, 150))\n",
    "print(\"height\")\n",
    "print(\"*-*\" * 20)\n",
    "print(height)\n"
   ]
  },
  {
   "cell_type": "code",
   "execution_count": 3,
   "metadata": {
    "_uuid": "66a3016f794da0e2174c8f1883ecede7d8242748"
   },
   "outputs": [
    {
     "name": "stdout",
     "output_type": "stream",
     "text": [
      "Converted weight from KGs to Pounds\n",
      "^__^^__^^__^^__^^__^^__^^__^^__^^__^^__^^__^^__^^__^^__^^__^^__^^__^^__^^__^^__^\n",
      "[152.11878, 121.2541, 185.18807999999999, 209.4389, 171.96035999999998, 149.91415999999998, 141.09568, 130.07258, 330.693, 105.82175999999998, 81]\n"
     ]
    }
   ],
   "source": [
    "# Converting weight from KGs to pounds\n",
    "weight[0] = weight[0] * 2.20462     # 1 KG = 2.24062 Pounds\n",
    "weight[1] = weight[1] * 2.20462     # 1 KG = 2.24062 Pounds\n",
    "weight[2] = weight[2] * 2.20462     # 1 KG = 2.24062 Pounds\n",
    "weight[3] = weight[3] * 2.20462     # 1 KG = 2.24062 Pounds\n",
    "weight[4] = weight[4] * 2.20462     # 1 KG = 2.24062 Pounds\n",
    "weight[5] = weight[5] * 2.20462     # 1 KG = 2.24062 Pounds\n",
    "weight[6] = weight[6] * 2.20462     # 1 KG = 2.24062 Pounds\n",
    "weight[7] = weight[7] * 2.20462     # 1 KG = 2.24062 Pounds\n",
    "weight[8] = weight[8] * 2.20462     # 1 KG = 2.24062 Pounds\n",
    "weight[9] = weight[9] * 2.20462     # 1 KG = 2.24062 Pounds\n",
    "print(\"Converted weight from KGs to Pounds\")\n",
    "print(\"^__^\" * 20)\n",
    "print(weight)\n"
   ]
  },
  {
   "cell_type": "code",
   "execution_count": 4,
   "metadata": {
    "_uuid": "33427dd735809b1a0161a216eee0c50203312079"
   },
   "outputs": [
    {
     "name": "stdout",
     "output_type": "stream",
     "text": [
      "Converted Height from inches to centimenters\n",
      "_()__()__()__()__()__()__()__()__()__()__()__()__()__()__()__()__()__()__()__()_\n",
      "[71.0, 56.0, 60.0, 70.0, 68.0, 66.0, 62.0, 69.0, 60.0, 60.0]\n"
     ]
    }
   ],
   "source": [
    "\n",
    "# Converting Height from inches to centi meters\n",
    "height[0] = height[0] / 2.5     # 1 Inch = 2.5 Centi Meters\n",
    "height[1] = height[1] / 2.5     # 1 Inch = 2.5 Centi Meters\n",
    "height[2] = height[2] / 2.5     # 1 Inch = 2.5 Centi Meters\n",
    "height[3] = height[3] / 2.5     # 1 Inch = 2.5 Centi Meters\n",
    "height[4] = height[4] / 2.5     # 1 Inch = 2.5 Centi Meters\n",
    "height[5] = height[5] / 2.5     # 1 Inch = 2.5 Centi Meters\n",
    "height[6] = height[6] / 2.5     # 1 Inch = 2.5 Centi Meters\n",
    "height[7] = height[7] / 2.5     # 1 Inch = 2.5 Centi Meters\n",
    "height[8] = height[8] / 2.5     # 1 Inch = 2.5 Centi Meters\n",
    "height[9] = height[9] / 2.5     # 1 Inch = 2.5 Centi Meters\n",
    "print(\"Converted Height from inches to centimenters\")\n",
    "print(\"_()_\" * 20)\n",
    "print(height)\n"
   ]
  },
  {
   "cell_type": "code",
   "execution_count": 5,
   "metadata": {
    "_cell_guid": "79c7e3d0-c299-4dcb-8224-4455121ee9b0",
    "_uuid": "d629ff2d2480ee46fbb7e2d37f6b5fab8052498a"
   },
   "outputs": [
    {
     "name": "stdout",
     "output_type": "stream",
     "text": [
      "BMI 1\n",
      "--------------------\n",
      "[21.213946109898828, 27.18164295280612, 36.163116733333325, 30.048070755102042, 26.14362739619377, 24.194135555555555, 25.803918584807487, 19.20626417559336, 64.57699416666667, 20.66463813333333]\n"
     ]
    }
   ],
   "source": [
    "\n",
    "bmi1 = list(((weight[0] / (height[0] ** 2)) * 703, (weight[1] / (height[1] ** 2)) * 703, (weight[2] / (height[2] ** 2)) * 703, \n",
    "(weight[3] / (height[3] ** 2)) * 703, (weight[4] / (height[4] ** 2)) * 703, (weight[5] / (height[5] ** 2)) * 703, \n",
    "(weight[6] / (height[6] ** 2)) * 703, (weight[7] / (height[7] ** 2)) * 703, (weight[8] / (height[8] ** 2)) * 703,\n",
    "(weight[9] / (height[9] ** 2)) * 703))\n",
    "\n",
    "print(\"BMI 1\")\n",
    "print(\"-\" * 20)\n",
    "print(bmi1)\n"
   ]
  },
  {
   "cell_type": "code",
   "execution_count": 6,
   "metadata": {
    "_uuid": "d6a8f801a88188248eb9ab74f1e56cad24a31ac8"
   },
   "outputs": [
    {
     "name": "stdout",
     "output_type": "stream",
     "text": [
      "BMI 2\n",
      "--------------------\n",
      "[2.599275158702175, 2.706929400884913, 2.8309195506976645, 2.7504702906634044, 2.690019542681078, 2.6563638070255693, 2.6843393603904495, 2.5560965955707036, 3.0827315236914643, 2.58788150201137]\n"
     ]
    }
   ],
   "source": [
    "\n",
    "bmi2 = list(( math.log10(bmi1[0] * 18.735), math.log10(bmi1[1] * 18.735), math.log10(bmi1[2] * 18.735), math.log10(bmi1[3] * 18.735),\n",
    "math.log10(bmi1[4] * 18.735), math.log10(bmi1[5] * 18.735), math.log10(bmi1[6] * 18.735), math.log10(bmi1[7] * 18.735),\n",
    "math.log10(bmi1[8] * 18.735), math.log10(bmi1[9] * 18.735)))\n",
    "print(\"BMI 2\")\n",
    "print(\"-\" * 20)\n",
    "print(bmi2)"
   ]
  },
  {
   "cell_type": "code",
   "execution_count": 7,
   "metadata": {
    "_uuid": "f339eb7d4ba52f43d63a10ae7a1c7870a563b5c6"
   },
   "outputs": [
    {
     "name": "stdout",
     "output_type": "stream",
     "text": [
      "BMI 3\n",
      "--------------------\n",
      "[1.6122267702473418, 1.645274870921243, 1.682533670004159, 1.6584541870860963, 1.6401279043663264, 1.629835515328332, 1.6383953614407145, 1.5987797207779137, 1.755770920049499, 1.6086893739971586]\n"
     ]
    }
   ],
   "source": [
    "bmi3 = list(( math.sqrt(bmi2[0]), math.sqrt(bmi2[1]), math.sqrt(bmi2[2]), math.sqrt(bmi2[3]), math.sqrt(bmi2[4]),\n",
    "math.sqrt(bmi2[5]), math.sqrt(bmi2[6]), math.sqrt(bmi2[7]), math.sqrt(bmi2[8]), math.sqrt(bmi2[9])))\n",
    "\n",
    "print(\"BMI 3\")\n",
    "print(\"-\" * 20)\n",
    "print(bmi3)"
   ]
  },
  {
   "cell_type": "code",
   "execution_count": 8,
   "metadata": {
    "_uuid": "76f2313adcefcbd0ede4d75f29606c4b05a1e042"
   },
   "outputs": [
    {
     "name": "stdout",
     "output_type": "stream",
     "text": [
      "BMI1\tBMI2\tBMI3\n",
      "********************\n",
      "21.21 \t 2.6 \t 1.61\n",
      "27.18 \t 2.71 \t 1.65\n",
      "36.16 \t 2.83 \t 1.68\n",
      "30.05 \t 2.75 \t 1.66\n",
      "26.14 \t 2.69 \t 1.64\n",
      "24.19 \t 2.66 \t 1.63\n",
      "25.8 \t 2.68 \t 1.64\n",
      "19.21 \t 2.56 \t 1.6\n",
      "64.58 \t 3.08 \t 1.76\n",
      "20.66 \t 2.59 \t 1.61\n"
     ]
    }
   ],
   "source": [
    "print(\"BMI1\\tBMI2\\tBMI3\")\n",
    "print(\"*\" * 20)\n",
    "print(round(bmi1[0],2),\"\\t\",round(bmi2[0],2),\"\\t\",round(bmi3[0],2))\n",
    "print(round(bmi1[1],2),\"\\t\",round(bmi2[1],2),\"\\t\",round(bmi3[1],2))\n",
    "print(round(bmi1[2],2),\"\\t\",round(bmi2[2],2),\"\\t\",round(bmi3[2],2))\n",
    "print(round(bmi1[3],2),\"\\t\",round(bmi2[3],2),\"\\t\",round(bmi3[3],2))\n",
    "print(round(bmi1[4],2),\"\\t\",round(bmi2[4],2),\"\\t\",round(bmi3[4],2))\n",
    "print(round(bmi1[5],2),\"\\t\",round(bmi2[5],2),\"\\t\",round(bmi3[5],2))\n",
    "print(round(bmi1[6],2),\"\\t\",round(bmi2[6],2),\"\\t\",round(bmi3[6],2))\n",
    "print(round(bmi1[7],2),\"\\t\",round(bmi2[7],2),\"\\t\",round(bmi3[7],2))\n",
    "print(round(bmi1[8],2),\"\\t\",round(bmi2[8],2),\"\\t\",round(bmi3[8],2))\n",
    "print(round(bmi1[9],2),\"\\t\",round(bmi2[9],2),\"\\t\",round(bmi3[9],2))"
   ]
  }
 ],
 "metadata": {
  "kernelspec": {
   "display_name": "Python 3",
   "language": "python",
   "name": "python3"
  },
  "language_info": {
   "codemirror_mode": {
    "name": "ipython",
    "version": 3
   },
   "file_extension": ".py",
   "mimetype": "text/x-python",
   "name": "python",
   "nbconvert_exporter": "python",
   "pygments_lexer": "ipython3",
   "version": "3.6.5"
  }
 },
 "nbformat": 4,
 "nbformat_minor": 1
}
