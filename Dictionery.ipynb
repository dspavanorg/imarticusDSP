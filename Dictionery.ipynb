{
 "cells": [
  {
   "cell_type": "code",
   "execution_count": 6,
   "metadata": {},
   "outputs": [
    {
     "name": "stdout",
     "output_type": "stream",
     "text": [
      "Dictionery Object :  {1: 'Python', 2: 'R script'}\n",
      "2\n",
      "[1, 2]\n",
      "[(3, 'python'), (4, 'Ruby')]\n"
     ]
    }
   ],
   "source": [
    "dict1 = dict({1:'Python',2:'R script'})\n",
    "dict2 = ([(3,'python'),(4,'Ruby')])\n",
    "print(\"Dictionery Object : \", dict1)\n",
    "# output : S\n",
    "print(len(dict1))\n",
    "#output : (1,2,3,4,5)\n",
    "print(sorted(dict1))\n",
    "print(sorted(dict2))"
   ]
  },
  {
   "cell_type": "markdown",
   "metadata": {},
   "source": []
  },
  {
   "cell_type": "markdown",
   "metadata": {},
   "source": [
    "<h2>Dictionery</h2>"
   ]
  },
  {
   "cell_type": "code",
   "execution_count": 10,
   "metadata": {},
   "outputs": [
    {
     "name": "stdout",
     "output_type": "stream",
     "text": [
      " Keys in the Dictionery :  [1, 2]\n"
     ]
    }
   ],
   "source": [
    "dict3 = list(dict1.keys())\n",
    "print(\" Keys in the Dictionery : \", dict3)"
   ]
  },
  {
   "cell_type": "code",
   "execution_count": 11,
   "metadata": {},
   "outputs": [
    {
     "data": {
      "text/plain": [
       "[1, 2]"
      ]
     },
     "execution_count": 11,
     "metadata": {},
     "output_type": "execute_result"
    }
   ],
   "source": [
    "# dict1.sort will not work , not availble\n",
    "sorted(dict1)"
   ]
  },
  {
   "cell_type": "code",
   "execution_count": 19,
   "metadata": {},
   "outputs": [
    {
     "name": "stdout",
     "output_type": "stream",
     "text": [
      "Key Sorting :  [(1, 'Python'), (2, 'R script'), (3, 'Alpha')]\n",
      "value Sorting :  [(3, 'Alpha'), (1, 'Python'), (2, 'R script')]\n"
     ]
    }
   ],
   "source": [
    "import operator\n",
    "# To sort dict based on keys\n",
    "dict1 = dict({1:'Python',2:'R script',3:'Alpha'})\n",
    "sorted_x = sorted(dict1.items(),key= operator.itemgetter(0))\n",
    "print(\"Key Sorting : \", sorted_x)\n",
    "# To sort dict based on the values\n",
    "sorted_values = sorted(dict1.items(),key= operator.itemgetter(1))\n",
    "print(\"value Sorting : \", sorted_values)"
   ]
  },
  {
   "cell_type": "code",
   "execution_count": null,
   "metadata": {},
   "outputs": [],
   "source": []
  }
 ],
 "metadata": {
  "kernelspec": {
   "display_name": "Python 3",
   "language": "python",
   "name": "python3"
  },
  "language_info": {
   "codemirror_mode": {
    "name": "ipython",
    "version": 3
   },
   "file_extension": ".py",
   "mimetype": "text/x-python",
   "name": "python",
   "nbconvert_exporter": "python",
   "pygments_lexer": "ipython3",
   "version": "3.6.4"
  }
 },
 "nbformat": 4,
 "nbformat_minor": 2
}
